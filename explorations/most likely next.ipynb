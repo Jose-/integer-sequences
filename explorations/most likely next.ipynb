{
 "cells": [
  {
   "cell_type": "code",
   "execution_count": 1,
   "metadata": {
    "collapsed": false
   },
   "outputs": [],
   "source": [
    "import matplotlib.pyplot as plt\n",
    "import numpy as np\n",
    "import csv\n",
    "\n",
    "%matplotlib inline"
   ]
  },
  {
   "cell_type": "code",
   "execution_count": 2,
   "metadata": {
    "collapsed": false
   },
   "outputs": [],
   "source": [
    "f = open('../data/test.csv', 'r')\n",
    "csv_reader = csv.DictReader(f)"
   ]
  },
  {
   "cell_type": "code",
   "execution_count": 3,
   "metadata": {
    "collapsed": false,
    "scrolled": true
   },
   "outputs": [
    {
     "name": "stdout",
     "output_type": "stream",
     "text": [
      "113845\n"
     ]
    }
   ],
   "source": [
    "rows = [row for row in csv_reader]\n",
    "sequences = {int(row['Id']): [int(s) for s in row['Sequence'].split(',')] for row in rows}\n",
    "print(len(sequences.keys()))"
   ]
  },
  {
   "cell_type": "markdown",
   "metadata": {},
   "source": [
    "# Monotonicity"
   ]
  },
  {
   "cell_type": "code",
   "execution_count": 4,
   "metadata": {
    "collapsed": true
   },
   "outputs": [],
   "source": [
    "def strictly_increasing(A):\n",
    "    return all(x < y for x, y in zip(A, A[1:]))\n",
    "    \n",
    "def non_decreasing(A):\n",
    "    return all(x <= y for x, y in zip(A, A[1:]))\n",
    "    \n",
    "def strictly_decreasing(A):\n",
    "    return all(x > y for x, y in zip(A, A[1:]))\n",
    "    \n",
    "def non_increasing(A):\n",
    "    return all(x >= y for x, y in zip(A, A[1:]))\n",
    "\n",
    "def non_monotonic(A):\n",
    "    return not any([strictly_increasing(A), strictly_decreasing(A), non_increasing(A), non_decreasing(A)])"
   ]
  },
  {
   "cell_type": "code",
   "execution_count": 5,
   "metadata": {
    "collapsed": false
   },
   "outputs": [
    {
     "name": "stdout",
     "output_type": "stream",
     "text": [
      "60002\n",
      "72585\n",
      "272\n",
      "468\n",
      "40870\n"
     ]
    }
   ],
   "source": [
    "A0 = list(filter(strictly_increasing, sequences.values()))\n",
    "A1 = list(filter(non_decreasing, sequences.values()))\n",
    "A2 = list(filter(strictly_decreasing, sequences.values()))\n",
    "A3 = list(filter(non_increasing, sequences.values()))\n",
    "A4 = list(filter(non_monotonic, sequences.values()))\n",
    "\n",
    "As = [A0,A1,A2,A3,A4]\n",
    "Ns = [\"strictly increasing\", \"non-decreasing\", \"strictly increasing\", \"non-increasing\", \"non-monotonic\"]\n",
    "\n",
    "print(len(A0))\n",
    "print(len(A1))\n",
    "print(len(A2))\n",
    "print(len(A3))\n",
    "print(len(A4))"
   ]
  },
  {
   "cell_type": "markdown",
   "metadata": {
    "collapsed": true
   },
   "source": [
    "# most likely next number"
   ]
  },
  {
   "cell_type": "code",
   "execution_count": 6,
   "metadata": {
    "collapsed": false
   },
   "outputs": [],
   "source": [
    "mode = lambda a: max(map(lambda val: (a.count(val), val), set(a)))[1]"
   ]
  },
  {
   "cell_type": "code",
   "execution_count": 7,
   "metadata": {
    "collapsed": true
   },
   "outputs": [],
   "source": [
    "from itertools import tee\n",
    "\n",
    "def nwise(iterable, n):\n",
    "    \"s -> (s0,s1), (s1,s2), (s2, s3), ...\"\n",
    "    iterables = tee(iterable, n)\n",
    "    for i, it in enumerate(iterables):\n",
    "        for j in range(i):\n",
    "            next(it,None)\n",
    "    return zip(*iterables)"
   ]
  },
  {
   "cell_type": "code",
   "execution_count": 8,
   "metadata": {
    "collapsed": false
   },
   "outputs": [],
   "source": [
    "from collections import Counter\n",
    "\n",
    "def counts(As, n=1, end=None, normalized = False):\n",
    "    As = list(map(lambda A: nwise(A,n), As))\n",
    "    elems = [e for A in As for e in A[-end:]] if end else [e for A in As for e in A]\n",
    "    hist = Counter(elems)\n",
    "    if normalized:\n",
    "        N=sum(hist.values())\n",
    "        return {e: cnt/N for e, cnt in hist.items()}\n",
    "    return hist"
   ]
  },
  {
   "cell_type": "code",
   "execution_count": 9,
   "metadata": {
    "collapsed": true
   },
   "outputs": [],
   "source": [
    "from collections import defaultdict\n",
    "\n",
    "def nwise_dict(As,n=1, prior=False):\n",
    "    cnts = counts(As, n=n+1, normalized=True)\n",
    "    X = list(zip(*cnts.keys()))\n",
    "    keys = list(zip(*X[:-1]))\n",
    "    values = X[-1]\n",
    "    \n",
    "    weights = cnts.values()\n",
    "    wprior = counts(As, normalized=True)\n",
    "\n",
    "    d = defaultdict(lambda : defaultdict(int))\n",
    "    for key, value, w in zip(keys, values, weights):\n",
    "        d[key][value] = w * (wprior[value,] if prior else 1)\n",
    "    return d"
   ]
  },
  {
   "cell_type": "code",
   "execution_count": 10,
   "metadata": {
    "collapsed": true
   },
   "outputs": [],
   "source": [
    "def max_next(nwise_d):\n",
    "    return {key: max(value.items(), key=lambda x: x[1]) for key, value in nwise_d.items()}"
   ]
  },
  {
   "cell_type": "code",
   "execution_count": 11,
   "metadata": {
    "collapsed": false
   },
   "outputs": [],
   "source": [
    "def predict(As, threshold, n=1, prior=False):\n",
    "    \n",
    "    d = max_next(nwise_dict(As, n=n, prior=prior))\n",
    "    \n",
    "    def pred(A):\n",
    "        \n",
    "        return d[tuple(A[-n:])][0] if tuple(A[-n:]) in d and d[tuple(A[-n:])][1] >= threshold else None\n",
    "    return pred"
   ]
  },
  {
   "cell_type": "markdown",
   "metadata": {},
   "source": [
    "# Testing"
   ]
  },
  {
   "cell_type": "code",
   "execution_count": 12,
   "metadata": {
    "collapsed": false
   },
   "outputs": [],
   "source": [
    "def predict_test(As, threshold, n=1, prior=False, fallback=False):\n",
    "    As = list(map(lambda A: A[:-1], As))\n",
    "    d = max_next(nwise_dict(As, n=n, prior=prior))\n",
    "    \n",
    "    def pred(A):\n",
    "        fb = mode(A) if fallback and len(A) > 0 else None\n",
    "        return d[tuple(A[-n:])][0] if tuple(A[-n:]) in d and d[tuple(A[-n:])][1] >= threshold else fb\n",
    "    return pred"
   ]
  },
  {
   "cell_type": "code",
   "execution_count": 13,
   "metadata": {
    "collapsed": true
   },
   "outputs": [],
   "source": [
    "def test(As, predict):\n",
    "    expected = [A[-1] for A in As]\n",
    "    predicted = [predict(A[:-1]) for A in As]\n",
    "    \n",
    "    total_right = len([1 for e, p in zip(expected, predicted) if e == p])\n",
    "    accuracy = total_right/len(As)\n",
    "    precision = total_right/max(len([1 for p in predicted if p is not None]),1)\n",
    "    return total_right, accuracy, precision"
   ]
  },
  {
   "cell_type": "markdown",
   "metadata": {},
   "source": [
    "# Fit"
   ]
  },
  {
   "cell_type": "code",
   "execution_count": 25,
   "metadata": {
    "collapsed": false
   },
   "outputs": [
    {
     "name": "stdout",
     "output_type": "stream",
     "text": [
      "strictly increasing :  accuracy =  0.021499283357221427 precision =  0.2723242558581381 total =  1290\n",
      "non-decreasing :  accuracy =  0.02444031135909623 precision =  0.27406148617333537 total =  1774\n",
      "strictly increasing :  accuracy =  0.0 precision =  0.0 total =  0\n",
      "non-increasing :  accuracy =  0.21367521367521367 precision =  0.45454545454545453 total =  100\n",
      "non-monotonic :  accuracy =  0.10589674577930022 precision =  0.18861675237514164 total =  4328\n"
     ]
    }
   ],
   "source": [
    "p = predict_test(list(sequences.values()), 1.0e-4)\n",
    "for A, N in zip(As, Ns):\n",
    "    total_right, accuracy, precision = test(A,p)\n",
    "    print(N, \": \", \"accuracy = \", accuracy, \"precision = \", precision, \"total = \", total_right)"
   ]
  },
  {
   "cell_type": "markdown",
   "metadata": {},
   "source": [
    "# Threshold"
   ]
  },
  {
   "cell_type": "code",
   "execution_count": 36,
   "metadata": {
    "collapsed": false
   },
   "outputs": [
    {
     "name": "stdout",
     "output_type": "stream",
     "text": [
      "0.1 :  accuracy =  0.19230769230769232 precision =  0.9375 total =  90\n",
      "0.01 :  accuracy =  0.2692307692307692 precision =  0.9264705882352942 total =  126\n",
      "0.001 :  accuracy =  0.3141025641025641 precision =  0.8258426966292135 total =  147\n",
      "0.0001 :  accuracy =  0.358974358974359 precision =  0.7850467289719626 total =  168\n",
      "1e-05 :  accuracy =  0.37606837606837606 precision =  0.6641509433962264 total =  176\n",
      "1e-06 :  accuracy =  0.37606837606837606 precision =  0.6641509433962264 total =  176\n",
      "1e-07 :  accuracy =  0.37606837606837606 precision =  0.6641509433962264 total =  176\n",
      "1e-08 :  accuracy =  0.37606837606837606 precision =  0.6641509433962264 total =  176\n"
     ]
    }
   ],
   "source": [
    "for thresh in [1.0e-1, 1.0e-2,1.0e-3,1.0e-4,1.0e-5]:\n",
    "    total_right, accuracy, precision = test(A3, predict_test(A3, thresh))\n",
    "    print(thresh, \": \", \"accuracy = \", accuracy, \"precision = \", precision, \"total = \", total_right)"
   ]
  },
  {
   "cell_type": "code",
   "execution_count": 57,
   "metadata": {
    "collapsed": false
   },
   "outputs": [
    {
     "name": "stdout",
     "output_type": "stream",
     "text": [
      "0.1 :  accuracy =  0.0 precision =  0.0 total =  0\n",
      "0.01 :  accuracy =  0.0 precision =  0.0 total =  0\n",
      "0.001 :  accuracy =  0.07352941176470588 precision =  0.5263157894736842 total =  20\n",
      "0.0001 :  accuracy =  0.11029411764705882 precision =  0.2912621359223301 total =  30\n",
      "1e-05 :  accuracy =  0.11029411764705882 precision =  0.2912621359223301 total =  30\n"
     ]
    }
   ],
   "source": [
    "for thresh in [1.0e-1, 1.0e-2,1.0e-3,1.0e-4,1.0e-5]:\n",
    "    total_right, accuracy, precision = test(A2, predict_test(A2, thresh))\n",
    "    print(thresh, \": \", \"accuracy = \", accuracy, \"precision = \", precision, \"total = \", total_right)"
   ]
  },
  {
   "cell_type": "code",
   "execution_count": 38,
   "metadata": {
    "collapsed": false
   },
   "outputs": [
    {
     "name": "stdout",
     "output_type": "stream",
     "text": [
      "0.1 :  accuracy =  0.0 precision =  0.0 total =  0\n",
      "0.01 :  accuracy =  0.0 precision =  0.0 total =  0\n",
      "0.001 :  accuracy =  0.001735895846249225 precision =  0.10465116279069768 total =  126\n",
      "0.0001 :  accuracy =  0.032458496934628364 precision =  0.2860264659463397 total =  2356\n",
      "1e-05 :  accuracy =  0.04619411724185438 precision =  0.2253057384760113 total =  3353\n",
      "1e-06 :  accuracy =  0.05607219122408211 precision =  0.16184189597582313 total =  4070\n",
      "1e-07 :  accuracy =  0.06849900117104085 precision =  0.1464377227343681 total =  4972\n",
      "1e-08 :  accuracy =  0.06849900117104085 precision =  0.1464377227343681 total =  4972\n"
     ]
    }
   ],
   "source": [
    "for thresh in [1.0e-1, 1.0e-2,1.0e-3,1.0e-4,1.0e-5,1.0e-6,1.0e-7, 1.0e-8]:\n",
    "    total_right, accuracy, precision = test(A1, predict_test(A1, thresh))\n",
    "    print(thresh, \": \", \"accuracy = \", accuracy, \"precision = \", precision, \"total = \", total_right)"
   ]
  },
  {
   "cell_type": "code",
   "execution_count": 44,
   "metadata": {
    "collapsed": false
   },
   "outputs": [
    {
     "name": "stdout",
     "output_type": "stream",
     "text": [
      "0.1 :  accuracy =  0.0 precision =  0.0 total =  0\n",
      "0.01 :  accuracy =  0.0 precision =  0.0 total =  0\n",
      "0.001 :  accuracy =  0.0007333088897036765 precision =  0.08193668528864059 total =  44\n",
      "0.0001 :  accuracy =  0.03491550281657278 precision =  0.3075455079271873 total =  2095\n",
      "1e-05 :  accuracy =  0.049581680610646314 precision =  0.22939316832446605 total =  2975\n",
      "1e-06 :  accuracy =  0.058981367287757075 precision =  0.16437529029261497 total =  3539\n",
      "1e-07 :  accuracy =  0.0724309189693677 precision =  0.14973814773980154 total =  4346\n",
      "1e-08 :  accuracy =  0.0724309189693677 precision =  0.14973814773980154 total =  4346\n"
     ]
    }
   ],
   "source": [
    "for thresh in [1.0e-1, 1.0e-2,1.0e-3,1.0e-4,1.0e-5,1.0e-6,1.0e-7, 1.0e-8]:\n",
    "    total_right, accuracy, precision = test(A0, predict_test(A0, thresh))\n",
    "    print(thresh, \": \", \"accuracy = \", accuracy, \"precision = \", precision, \"total = \", total_right)"
   ]
  },
  {
   "cell_type": "code",
   "execution_count": 51,
   "metadata": {
    "collapsed": false
   },
   "outputs": [
    {
     "name": "stdout",
     "output_type": "stream",
     "text": [
      "0.1 :  accuracy =  0.0 precision =  0.0 total =  0\n",
      "0.01 :  accuracy =  0.06753119647663322 precision =  0.3553038105046344 total =  2760\n",
      "0.001 :  accuracy =  0.08977244922926352 precision =  0.24772128823171966 total =  3669\n",
      "0.0001 :  accuracy =  0.10024467824810375 precision =  0.20251099797340716 total =  4097\n",
      "1e-05 :  accuracy =  0.10660631269880108 precision =  0.18418938913548932 total =  4357\n",
      "1e-06 :  accuracy =  0.11096158551504771 precision =  0.162225004471472 total =  4535\n",
      "1e-07 :  accuracy =  0.1148764374847076 precision =  0.14519870109788155 total =  4695\n",
      "1e-08 :  accuracy =  0.1148764374847076 precision =  0.14519870109788155 total =  4695\n"
     ]
    }
   ],
   "source": [
    "for thresh in [1.0e-1, 1.0e-2,1.0e-3,1.0e-4,1.0e-5,1.0e-6,1.0e-7, 1.0e-8]:\n",
    "    total_right, accuracy, precision = test(A4, predict_test(A4, thresh))\n",
    "    print(thresh, \": \", \"accuracy = \", accuracy, \"precision = \", precision, \"total = \", total_right)"
   ]
  },
  {
   "cell_type": "markdown",
   "metadata": {},
   "source": [
    "# Fallback"
   ]
  },
  {
   "cell_type": "code",
   "execution_count": 52,
   "metadata": {
    "collapsed": false
   },
   "outputs": [
    {
     "name": "stdout",
     "output_type": "stream",
     "text": [
      "Fallback =  True :  accuracy =  0.23931623931623933 precision =  0.27184466019417475 total =  112\n",
      "Fallback =  False :  accuracy =  0.19230769230769232 precision =  0.9375 total =  90\n"
     ]
    }
   ],
   "source": [
    "for fallback in [True, False]:\n",
    "    total_right, accuracy, precision = test(A3, predict_test(A3, .1, fallback=fallback))\n",
    "    print(\"Fallback = \", fallback, \": \", \"accuracy = \", accuracy, \"precision = \", precision, \"total = \", total_right)"
   ]
  },
  {
   "cell_type": "code",
   "execution_count": 60,
   "metadata": {
    "collapsed": false
   },
   "outputs": [
    {
     "name": "stdout",
     "output_type": "stream",
     "text": [
      "Fallback =  True :  accuracy =  0.11029411764705882 precision =  0.1388888888888889 total =  30\n",
      "Fallback =  False :  accuracy =  0.11029411764705882 precision =  0.2912621359223301 total =  30\n"
     ]
    }
   ],
   "source": [
    "for fallback in [True, False]:\n",
    "    total_right, accuracy, precision = test(A2, predict_test(A2, .00001, fallback=fallback))\n",
    "    print(\"Fallback = \", fallback, \": \", \"accuracy = \", accuracy, \"precision = \", precision, \"total = \", total_right)"
   ]
  },
  {
   "cell_type": "markdown",
   "metadata": {},
   "source": [
    "## non-decreasing"
   ]
  },
  {
   "cell_type": "code",
   "execution_count": 53,
   "metadata": {
    "collapsed": false
   },
   "outputs": [
    {
     "name": "stdout",
     "output_type": "stream",
     "text": [
      "Fallback =  True :  accuracy =  0.033409106564717225 precision =  0.03343490190130844 total =  2425\n",
      "Fallback =  False :  accuracy =  0.032458496934628364 precision =  0.2860264659463397 total =  2356\n"
     ]
    }
   ],
   "source": [
    "for fallback in [True, False]:\n",
    "    total_right, accuracy, precision = test(A1, predict_test(A1, .0001, fallback=fallback))\n",
    "    print(\"Fallback = \", fallback, \": \", \"accuracy = \", accuracy, \"precision = \", precision, \"total = \", total_right)"
   ]
  },
  {
   "cell_type": "code",
   "execution_count": 65,
   "metadata": {
    "collapsed": false
   },
   "outputs": [
    {
     "name": "stdout",
     "output_type": "stream",
     "text": [
      "Fallback =  True :  accuracy =  0.04681408004408624 precision =  0.04685022542707055 total =  3398\n",
      "Fallback =  False :  accuracy =  0.04619411724185438 precision =  0.2253057384760113 total =  3353\n"
     ]
    }
   ],
   "source": [
    "for fallback in [True, False]:\n",
    "    total_right, accuracy, precision = test(A1, predict_test(A1, .00001, fallback=fallback))\n",
    "    print(\"Fallback = \", fallback, \": \", \"accuracy = \", accuracy, \"precision = \", precision, \"total = \", total_right)"
   ]
  },
  {
   "cell_type": "markdown",
   "metadata": {},
   "source": [
    "## increasing"
   ]
  },
  {
   "cell_type": "code",
   "execution_count": 54,
   "metadata": {
    "collapsed": false
   },
   "outputs": [
    {
     "name": "stdout",
     "output_type": "stream",
     "text": [
      "Fallback =  True :  accuracy =  0.03491550281657278 precision =  0.034948119974643845 total =  2095\n",
      "Fallback =  False :  accuracy =  0.03491550281657278 precision =  0.3075455079271873 total =  2095\n"
     ]
    }
   ],
   "source": [
    "for fallback in [True, False]:\n",
    "    total_right, accuracy, precision = test(A0, predict_test(A0, .0001, fallback=fallback))\n",
    "    print(\"Fallback = \", fallback, \": \", \"accuracy = \", accuracy, \"precision = \", precision, \"total = \", total_right)"
   ]
  },
  {
   "cell_type": "code",
   "execution_count": 62,
   "metadata": {
    "collapsed": false
   },
   "outputs": [
    {
     "name": "stdout",
     "output_type": "stream",
     "text": [
      "Fallback =  True :  accuracy =  0.049581680610646314 precision =  0.04962799853201214 total =  2975\n",
      "Fallback =  False :  accuracy =  0.049581680610646314 precision =  0.22939316832446605 total =  2975\n"
     ]
    }
   ],
   "source": [
    "for fallback in [True, False]:\n",
    "    total_right, accuracy, precision = test(A0, predict_test(A0, .00001, fallback=fallback))\n",
    "    print(\"Fallback = \", fallback, \": \", \"accuracy = \", accuracy, \"precision = \", precision, \"total = \", total_right)"
   ]
  },
  {
   "cell_type": "code",
   "execution_count": 64,
   "metadata": {
    "collapsed": false
   },
   "outputs": [
    {
     "name": "stdout",
     "output_type": "stream",
     "text": [
      "Fallback =  True :  accuracy =  0.058981367287757075 precision =  0.05903646615287092 total =  3539\n",
      "Fallback =  False :  accuracy =  0.058981367287757075 precision =  0.16437529029261497 total =  3539\n"
     ]
    }
   ],
   "source": [
    "for fallback in [True, False]:\n",
    "    total_right, accuracy, precision = test(A0, predict_test(A0, .000001, fallback=fallback))\n",
    "    print(\"Fallback = \", fallback, \": \", \"accuracy = \", accuracy, \"precision = \", precision, \"total = \", total_right)"
   ]
  },
  {
   "cell_type": "markdown",
   "metadata": {},
   "source": [
    "## non-mono"
   ]
  },
  {
   "cell_type": "code",
   "execution_count": 55,
   "metadata": {
    "collapsed": false
   },
   "outputs": [
    {
     "name": "stdout",
     "output_type": "stream",
     "text": [
      "Fallback =  True :  accuracy =  0.1345241008074382 precision =  0.1345241008074382 total =  5498\n",
      "Fallback =  False :  accuracy =  0.06753119647663322 precision =  0.3553038105046344 total =  2760\n"
     ]
    }
   ],
   "source": [
    "for fallback in [True, False]:\n",
    "    total_right, accuracy, precision = test(A4, predict_test(A4, .01, fallback=fallback))\n",
    "    print(\"Fallback = \", fallback, \": \", \"accuracy = \", accuracy, \"precision = \", precision, \"total = \", total_right)"
   ]
  },
  {
   "cell_type": "code",
   "execution_count": 63,
   "metadata": {
    "collapsed": false
   },
   "outputs": [
    {
     "name": "stdout",
     "output_type": "stream",
     "text": [
      "Fallback =  True :  accuracy =  0.12304869097137265 precision =  0.12304869097137265 total =  5029\n",
      "Fallback =  False :  accuracy =  0.08977244922926352 precision =  0.24772128823171966 total =  3669\n"
     ]
    }
   ],
   "source": [
    "for fallback in [True, False]:\n",
    "    total_right, accuracy, precision = test(A4, predict_test(A4, .001, fallback=fallback))\n",
    "    print(\"Fallback = \", fallback, \": \", \"accuracy = \", accuracy, \"precision = \", precision, \"total = \", total_right)"
   ]
  },
  {
   "cell_type": "markdown",
   "metadata": {},
   "source": [
    "# Num Back"
   ]
  },
  {
   "cell_type": "code",
   "execution_count": 22,
   "metadata": {
    "collapsed": false
   },
   "outputs": [
    {
     "name": "stdout",
     "output_type": "stream",
     "text": [
      "strictly increasing :  accuracy =  0.03491550281657278 precision =  0.3075455079271873 total =  2095\n",
      "non-decreasing :  accuracy =  0.032458496934628364 precision =  0.2860264659463397 total =  2356\n",
      "strictly increasing :  accuracy =  0.11029411764705882 precision =  0.2912621359223301 total =  30\n",
      "non-increasing :  accuracy =  0.358974358974359 precision =  0.7850467289719626 total =  168\n",
      "non-monotonic :  accuracy =  0.10024467824810375 precision =  0.20251099797340716 total =  4097\n"
     ]
    }
   ],
   "source": [
    "for A, N in zip(As, Ns):\n",
    "    total_right, accuracy, precision = test(A, predict_test(A, 1.0e-4))\n",
    "    print(N, \": \", \"accuracy = \", accuracy, \"precision = \", precision, \"total = \", total_right)"
   ]
  },
  {
   "cell_type": "code",
   "execution_count": 23,
   "metadata": {
    "collapsed": false
   },
   "outputs": [
    {
     "name": "stdout",
     "output_type": "stream",
     "text": [
      "strictly increasing :  accuracy =  0.06346455118162728 precision =  0.32205683355886333 total =  3808\n",
      "non-decreasing :  accuracy =  0.06522008679479231 precision =  0.3331691181645436 total =  4734\n",
      "strictly increasing :  accuracy =  0.08455882352941177 precision =  0.5476190476190477 total =  23\n",
      "non-increasing :  accuracy =  0.3611111111111111 precision =  0.8407960199004975 total =  169\n",
      "non-monotonic :  accuracy =  0.1413261561047223 precision =  0.2862523540489642 total =  5776\n"
     ]
    }
   ],
   "source": [
    "for A, N in zip(As, Ns):\n",
    "    total_right, accuracy, precision = test(A, predict_test(A, 1.0e-6, n=2))\n",
    "    print(N, \": \", \"accuracy = \", accuracy, \"precision = \", precision, \"total = \", total_right)"
   ]
  },
  {
   "cell_type": "markdown",
   "metadata": {},
   "source": [
    "# Prior"
   ]
  },
  {
   "cell_type": "code",
   "execution_count": 26,
   "metadata": {
    "collapsed": false
   },
   "outputs": [
    {
     "name": "stdout",
     "output_type": "stream",
     "text": [
      "strictly increasing :  accuracy =  0.0 precision =  0.0 total =  0\n",
      "non-decreasing :  accuracy =  0.00012399256044637322 precision =  0.08823529411764706 total =  9\n",
      "strictly increasing :  accuracy =  0.0 precision =  0.0 total =  0\n",
      "non-increasing :  accuracy =  0.2692307692307692 precision =  0.9264705882352942 total =  126\n",
      "non-monotonic :  accuracy =  0.08690971372644972 precision =  0.2398217541016812 total =  3552\n"
     ]
    }
   ],
   "source": [
    "for A, N in zip(As, Ns):\n",
    "    total_right, accuracy, precision = test(A, predict_test(A, 1.0e-4, prior=True))\n",
    "    print(N, \": \", \"accuracy = \", accuracy, \"precision = \", precision, \"total = \", total_right)"
   ]
  },
  {
   "cell_type": "markdown",
   "metadata": {},
   "source": [
    "# Numback with thresh"
   ]
  },
  {
   "cell_type": "code",
   "execution_count": 67,
   "metadata": {
    "collapsed": false
   },
   "outputs": [
    {
     "name": "stdout",
     "output_type": "stream",
     "text": [
      "0.1 :  accuracy =  0.0 precision =  0.0 total =  0\n",
      "0.01 :  accuracy =  0.03748470760949352 precision =  0.644509886411443 total =  1532\n",
      "0.001 :  accuracy =  0.07200880841693173 precision =  0.42430795847750863 total =  2943\n",
      "0.0001 :  accuracy =  0.10325422069977978 precision =  0.3176993149137996 total =  4220\n",
      "1e-05 :  accuracy =  0.12417421091264987 precision =  0.3079116612061643 total =  5075\n",
      "1e-06 :  accuracy =  0.1413261561047223 precision =  0.2862523540489642 total =  5776\n",
      "1e-07 :  accuracy =  0.15632493271348177 precision =  0.2600643139170432 total =  6389\n",
      "1e-08 :  accuracy =  0.15632493271348177 precision =  0.2600643139170432 total =  6389\n",
      "1e-09 :  accuracy =  0.15632493271348177 precision =  0.2600643139170432 total =  6389\n"
     ]
    }
   ],
   "source": [
    "for thresh in [1.0e-1, 1.0e-2,1.0e-3,1.0e-4,1.0e-5,1.0e-6,1.0e-7, 1.0e-8]:\n",
    "    total_right, accuracy, precision = test(A4, predict_test(A4,thresh,n=1))\n",
    "    print(thresh, \": \", \"accuracy = \", accuracy, \"precision = \", precision, \"total = \", total_right)"
   ]
  },
  {
   "cell_type": "code",
   "execution_count": 67,
   "metadata": {
    "collapsed": false
   },
   "outputs": [
    {
     "name": "stdout",
     "output_type": "stream",
     "text": [
      "0.1 :  accuracy =  0.0 precision =  0.0 total =  0\n",
      "0.01 :  accuracy =  0.03748470760949352 precision =  0.644509886411443 total =  1532\n",
      "0.001 :  accuracy =  0.07200880841693173 precision =  0.42430795847750863 total =  2943\n",
      "0.0001 :  accuracy =  0.10325422069977978 precision =  0.3176993149137996 total =  4220\n",
      "1e-05 :  accuracy =  0.12417421091264987 precision =  0.3079116612061643 total =  5075\n",
      "1e-06 :  accuracy =  0.1413261561047223 precision =  0.2862523540489642 total =  5776\n",
      "1e-07 :  accuracy =  0.15632493271348177 precision =  0.2600643139170432 total =  6389\n",
      "1e-08 :  accuracy =  0.15632493271348177 precision =  0.2600643139170432 total =  6389\n",
      "1e-09 :  accuracy =  0.15632493271348177 precision =  0.2600643139170432 total =  6389\n"
     ]
    }
   ],
   "source": [
    "for thresh in [1.0e-1, 1.0e-2,1.0e-3,1.0e-4,1.0e-5,1.0e-6,1.0e-7, 1.0e-8]:\n",
    "    total_right, accuracy, precision = test(A4, predict_test(A4,thresh,n=2))\n",
    "    print(thresh, \": \", \"accuracy = \", accuracy, \"precision = \", precision, \"total = \", total_right)"
   ]
  },
  {
   "cell_type": "code",
   "execution_count": 68,
   "metadata": {
    "collapsed": false
   },
   "outputs": [
    {
     "name": "stdout",
     "output_type": "stream",
     "text": [
      "0.01 :  accuracy =  0.028358208955223882 precision =  0.7614980289093298 total =  1159\n",
      "0.001 :  accuracy =  0.049253731343283584 precision =  0.621104597346498 total =  2013\n",
      "0.0001 :  accuracy =  0.08128211402006362 precision =  0.48376292412989663 total =  3322\n",
      "1e-05 :  accuracy =  0.11702960606802056 precision =  0.36747080516287645 total =  4783\n",
      "1e-06 :  accuracy =  0.1424516760459995 precision =  0.36943968525921694 total =  5822\n",
      "1e-07 :  accuracy =  0.16501101052116468 precision =  0.35037406483790523 total =  6744\n",
      "1e-08 :  accuracy =  0.16501101052116468 precision =  0.35037406483790523 total =  6744\n",
      "1e-09 :  accuracy =  0.16501101052116468 precision =  0.35037406483790523 total =  6744\n"
     ]
    }
   ],
   "source": [
    "for thresh in [1.0e-2,1.0e-3,1.0e-4,1.0e-5,1.0e-6,1.0e-7, 1.0e-8]:\n",
    "    total_right, accuracy, precision = test(A4, predict_test(A4,thresh,n=3))\n",
    "    print(thresh, \": \", \"accuracy = \", accuracy, \"precision = \", precision, \"total = \", total_right)"
   ]
  },
  {
   "cell_type": "code",
   "execution_count": 69,
   "metadata": {
    "collapsed": false
   },
   "outputs": [
    {
     "name": "stdout",
     "output_type": "stream",
     "text": [
      "0.01 :  accuracy =  0.01668705652067531 precision =  0.8276699029126213 total =  682\n",
      "0.001 :  accuracy =  0.03924639099584047 precision =  0.7016622922134733 total =  1604\n",
      "0.0001 :  accuracy =  0.06290677758747247 precision =  0.6183261183261183 total =  2571\n",
      "1e-05 :  accuracy =  0.09674577930022021 precision =  0.5372282608695652 total =  3954\n",
      "1e-06 :  accuracy =  0.14061658918522144 precision =  0.426461858118136 total =  5747\n",
      "1e-07 :  accuracy =  0.16848544164423782 precision =  0.42778157420637386 total =  6886\n",
      "1e-08 :  accuracy =  0.16848544164423782 precision =  0.42778157420637386 total =  6886\n",
      "1e-09 :  accuracy =  0.16848544164423782 precision =  0.42778157420637386 total =  6886\n"
     ]
    }
   ],
   "source": [
    "for thresh in [1.0e-2,1.0e-3,1.0e-4,1.0e-5,1.0e-6,1.0e-7, 1.0e-8]:\n",
    "    total_right, accuracy, precision = test(A4, predict_test(A4,thresh,n=4))\n",
    "    print(thresh, \": \", \"accuracy = \", accuracy, \"precision = \", precision, \"total = \", total_right)"
   ]
  },
  {
   "cell_type": "markdown",
   "metadata": {},
   "source": [
    "# fallback and nums"
   ]
  },
  {
   "cell_type": "code",
   "execution_count": 70,
   "metadata": {
    "collapsed": false
   },
   "outputs": [
    {
     "name": "stdout",
     "output_type": "stream",
     "text": [
      "0.1 :  accuracy =  0.14306337166625888 precision =  0.14306337166625888 total =  5847\n",
      "0.01 :  accuracy =  0.1345241008074382 precision =  0.1345241008074382 total =  5498\n",
      "0.001 :  accuracy =  0.12304869097137265 precision =  0.12304869097137265 total =  5029\n",
      "0.0001 :  accuracy =  0.11918277465133349 precision =  0.11918277465133349 total =  4871\n",
      "1e-05 :  accuracy =  0.12091999021287007 precision =  0.12091999021287007 total =  4942\n",
      "1e-06 :  accuracy =  0.11989234157083435 precision =  0.11989234157083435 total =  4900\n",
      "1e-07 :  accuracy =  0.11930511377538537 precision =  0.11930511377538537 total =  4876\n",
      "1e-08 :  accuracy =  0.11930511377538537 precision =  0.11930511377538537 total =  4876\n"
     ]
    }
   ],
   "source": [
    "for thresh in [1.0e-1, 1.0e-2,1.0e-3,1.0e-4,1.0e-5,1.0e-6,1.0e-7, 1.0e-8]:\n",
    "    total_right, accuracy, precision = test(A4, predict_test(A4,thresh,n=1,fallback=True))\n",
    "    print(thresh, \": \", \"accuracy = \", accuracy, \"precision = \", precision, \"total = \", total_right)"
   ]
  },
  {
   "cell_type": "code",
   "execution_count": 71,
   "metadata": {
    "collapsed": false
   },
   "outputs": [
    {
     "name": "stdout",
     "output_type": "stream",
     "text": [
      "0.1 :  accuracy =  0.14306337166625888 precision =  0.14306337166625888 total =  5847\n",
      "0.01 :  accuracy =  0.14377293858575974 precision =  0.14377293858575974 total =  5876\n",
      "0.001 :  accuracy =  0.14117934915586006 precision =  0.14117934915586006 total =  5770\n",
      "0.0001 :  accuracy =  0.14519207242476143 precision =  0.14519207242476143 total =  5934\n",
      "1e-05 :  accuracy =  0.1540004893564962 precision =  0.1540004893564962 total =  6294\n",
      "1e-06 :  accuracy =  0.16256422804012724 precision =  0.16256422804012724 total =  6644\n",
      "1e-07 :  accuracy =  0.17066307805236114 precision =  0.17066307805236114 total =  6975\n",
      "1e-08 :  accuracy =  0.17066307805236114 precision =  0.17066307805236114 total =  6975\n"
     ]
    }
   ],
   "source": [
    "for thresh in [1.0e-1, 1.0e-2,1.0e-3,1.0e-4,1.0e-5,1.0e-6,1.0e-7, 1.0e-8]:\n",
    "    total_right, accuracy, precision = test(A4, predict_test(A4,thresh,n=2,fallback=True))\n",
    "    print(thresh, \": \", \"accuracy = \", accuracy, \"precision = \", precision, \"total = \", total_right)"
   ]
  },
  {
   "cell_type": "code",
   "execution_count": 72,
   "metadata": {
    "collapsed": false
   },
   "outputs": [
    {
     "name": "stdout",
     "output_type": "stream",
     "text": [
      "0.01 :  accuracy =  0.14396868118424272 precision =  0.14396868118424272 total =  5884\n",
      "0.001 :  accuracy =  0.14470271592855394 precision =  0.14470271592855394 total =  5914\n",
      "0.0001 :  accuracy =  0.14949840959138733 precision =  0.14949840959138733 total =  6110\n",
      "1e-05 :  accuracy =  0.16187912894543674 precision =  0.16187912894543674 total =  6616\n",
      "1e-06 :  accuracy =  0.17648642035723025 precision =  0.17648642035723025 total =  7213\n",
      "1e-07 :  accuracy =  0.19021287007585025 precision =  0.19021287007585025 total =  7774\n",
      "1e-08 :  accuracy =  0.19021287007585025 precision =  0.19021287007585025 total =  7774\n"
     ]
    }
   ],
   "source": [
    "for thresh in [1.0e-2,1.0e-3,1.0e-4,1.0e-5,1.0e-6,1.0e-7, 1.0e-8]:\n",
    "    total_right, accuracy, precision = test(A4, predict_test(A4,thresh,n=3,fallback=True))\n",
    "    print(thresh, \": \", \"accuracy = \", accuracy, \"precision = \", precision, \"total = \", total_right)"
   ]
  },
  {
   "cell_type": "code",
   "execution_count": 73,
   "metadata": {
    "collapsed": false
   },
   "outputs": [
    {
     "name": "stdout",
     "output_type": "stream",
     "text": [
      "0.01 :  accuracy =  0.14343038903841449 precision =  0.14343038903841449 total =  5862\n",
      "0.001 :  accuracy =  0.1440910203082946 precision =  0.1440910203082946 total =  5889\n",
      "0.0001 :  accuracy =  0.14864203572302423 precision =  0.14864203572302423 total =  6075\n",
      "1e-05 :  accuracy =  0.16315145583557622 precision =  0.16315145583557622 total =  6668\n",
      "1e-06 :  accuracy =  0.18333741130413506 precision =  0.18333741130413506 total =  7493\n",
      "1e-07 :  accuracy =  0.20203082945926107 precision =  0.20203082945926107 total =  8257\n",
      "1e-08 :  accuracy =  0.20203082945926107 precision =  0.20203082945926107 total =  8257\n"
     ]
    }
   ],
   "source": [
    "for thresh in [1.0e-2,1.0e-3,1.0e-4,1.0e-5,1.0e-6,1.0e-7, 1.0e-8]:\n",
    "    total_right, accuracy, precision = test(A4, predict_test(A4,thresh,n=4,fallback=True))\n",
    "    print(thresh, \": \", \"accuracy = \", accuracy, \"precision = \", precision, \"total = \", total_right)"
   ]
  },
  {
   "cell_type": "code",
   "execution_count": 76,
   "metadata": {
    "collapsed": false
   },
   "outputs": [
    {
     "name": "stdout",
     "output_type": "stream",
     "text": [
      "0.01 :  accuracy =  0.14328358208955225 precision =  0.14328358208955225 total =  5856\n",
      "0.001 :  accuracy =  0.14382187423538048 precision =  0.14382187423538048 total =  5878\n",
      "0.0001 :  accuracy =  0.14729630535845364 precision =  0.14729630535845364 total =  6020\n",
      "1e-05 :  accuracy =  0.1605823342304869 precision =  0.1605823342304869 total =  6563\n",
      "1e-06 :  accuracy =  0.185294837288965 precision =  0.185294837288965 total =  7573\n",
      "1e-07 :  accuracy =  0.20594568142892097 precision =  0.20594568142892097 total =  8417\n",
      "1e-08 :  accuracy =  0.20594568142892097 precision =  0.20594568142892097 total =  8417\n"
     ]
    }
   ],
   "source": [
    "for thresh in [1.0e-2,1.0e-3,1.0e-4,1.0e-5,1.0e-6,1.0e-7, 1.0e-8]:\n",
    "    total_right, accuracy, precision = test(A4, predict_test(A4,thresh,n=5,fallback=True))\n",
    "    print(thresh, \": \", \"accuracy = \", accuracy, \"precision = \", precision, \"total = \", total_right)"
   ]
  },
  {
   "cell_type": "code",
   "execution_count": null,
   "metadata": {
    "collapsed": false
   },
   "outputs": [],
   "source": [
    "for thresh in [1.0e-2,1.0e-3,1.0e-4,1.0e-5,1.0e-6,1.0e-7, 1.0e-8]:\n",
    "    total_right, accuracy, precision = test(A4, predict_test(A4,thresh,n=8,fallback=True))\n",
    "    print(thresh, \": \", \"accuracy = \", accuracy, \"precision = \", precision, \"total = \", total_right)"
   ]
  },
  {
   "cell_type": "markdown",
   "metadata": {},
   "source": [
    "# Best precision"
   ]
  },
  {
   "cell_type": "markdown",
   "metadata": {},
   "source": [
    "# increasing"
   ]
  },
  {
   "cell_type": "code",
   "execution_count": 79,
   "metadata": {
    "collapsed": false
   },
   "outputs": [
    {
     "name": "stdout",
     "output_type": "stream",
     "text": [
      "0.1 :  accuracy =  0.0 precision =  0.0 total =  0\n",
      "0.01 :  accuracy =  0.0 precision =  0.0 total =  0\n",
      "0.001 :  accuracy =  0.0007333088897036765 precision =  0.0007339939278684149 total =  44\n",
      "0.0001 :  accuracy =  0.03491550281657278 precision =  0.034948119974643845 total =  2095\n",
      "1e-05 :  accuracy =  0.049581680610646314 precision =  0.04962799853201214 total =  2975\n",
      "1e-06 :  accuracy =  0.058981367287757075 precision =  0.05903646615287092 total =  3539\n",
      "1e-07 :  accuracy =  0.0724309189693677 precision =  0.0724985820571848 total =  4346\n",
      "1e-08 :  accuracy =  0.0724309189693677 precision =  0.0724985820571848 total =  4346\n"
     ]
    }
   ],
   "source": [
    "for thresh in [1.0e-1, 1.0e-2,1.0e-3,1.0e-4,1.0e-5,1.0e-6,1.0e-7, 1.0e-8]:\n",
    "    total_right, accuracy, precision = test(A0, predict_test(A0,thresh,n=1,fallback=True))\n",
    "    print(thresh, \": \", \"accuracy = \", accuracy, \"precision = \", precision, \"total = \", total_right)"
   ]
  },
  {
   "cell_type": "code",
   "execution_count": 80,
   "metadata": {
    "collapsed": false
   },
   "outputs": [
    {
     "name": "stdout",
     "output_type": "stream",
     "text": [
      "0.1 :  accuracy =  0.0 precision =  0.0 total =  0\n",
      "0.01 :  accuracy =  0.0 precision =  0.0 total =  0\n",
      "0.001 :  accuracy =  0.0001499950001666611 precision =  0.0001501351216094485 total =  9\n",
      "0.0001 :  accuracy =  0.019966001133295556 precision =  0.01998465285423548 total =  1198\n",
      "1e-05 :  accuracy =  0.04214859504683177 precision =  0.04218796917225503 total =  2529\n",
      "1e-06 :  accuracy =  0.06346455118162728 precision =  0.06352383812097555 total =  3808\n",
      "1e-07 :  accuracy =  0.08388053731542282 precision =  0.08395889634003936 total =  5033\n",
      "1e-08 :  accuracy =  0.08388053731542282 precision =  0.08395889634003936 total =  5033\n"
     ]
    }
   ],
   "source": [
    "for thresh in [1.0e-1, 1.0e-2,1.0e-3,1.0e-4,1.0e-5,1.0e-6,1.0e-7, 1.0e-8]:\n",
    "    total_right, accuracy, precision = test(A0, predict_test(A0,thresh,n=2,fallback=True))\n",
    "    print(thresh, \": \", \"accuracy = \", accuracy, \"precision = \", precision, \"total = \", total_right)"
   ]
  },
  {
   "cell_type": "code",
   "execution_count": 81,
   "metadata": {
    "collapsed": false
   },
   "outputs": [
    {
     "name": "stdout",
     "output_type": "stream",
     "text": [
      "0.01 :  accuracy =  0.0 precision =  0.0 total =  0\n",
      "0.001 :  accuracy =  6.666444451851606e-05 precision =  6.672672071531044e-05 total =  4\n",
      "0.0001 :  accuracy =  0.009716342788573714 precision =  0.009725419544256498 total =  583\n",
      "1e-05 :  accuracy =  0.03286557114762841 precision =  0.03289627331264805 total =  1972\n",
      "1e-06 :  accuracy =  0.057981400619979334 precision =  0.05803556534214126 total =  3479\n",
      "1e-07 :  accuracy =  0.0823139228692377 precision =  0.08239081840322958 total =  4939\n",
      "1e-08 :  accuracy =  0.0823139228692377 precision =  0.08239081840322958 total =  4939\n"
     ]
    }
   ],
   "source": [
    "for thresh in [1.0e-2,1.0e-3,1.0e-4,1.0e-5,1.0e-6,1.0e-7, 1.0e-8]:\n",
    "    total_right, accuracy, precision = test(A0, predict_test(A0,thresh,n=3,fallback=True))\n",
    "    print(thresh, \": \", \"accuracy = \", accuracy, \"precision = \", precision, \"total = \", total_right)"
   ]
  },
  {
   "cell_type": "code",
   "execution_count": 82,
   "metadata": {
    "collapsed": false
   },
   "outputs": [
    {
     "name": "stdout",
     "output_type": "stream",
     "text": [
      "0.01 :  accuracy =  0.0 precision =  0.0 total =  0\n",
      "0.001 :  accuracy =  0.0 precision =  0.0 total =  0\n",
      "0.0001 :  accuracy =  0.005683143895203493 precision =  0.005688452940980216 total =  341\n",
      "1e-05 :  accuracy =  0.022915902803239893 precision =  0.022937310245887965 total =  1375\n",
      "1e-06 :  accuracy =  0.048131728942368585 precision =  0.048176692356454144 total =  2888\n",
      "1e-07 :  accuracy =  0.0742808573047565 precision =  0.07435024855703466 total =  4457\n",
      "1e-08 :  accuracy =  0.0742808573047565 precision =  0.07435024855703466 total =  4457\n"
     ]
    }
   ],
   "source": [
    "for thresh in [1.0e-2,1.0e-3,1.0e-4,1.0e-5,1.0e-6,1.0e-7, 1.0e-8]:\n",
    "    total_right, accuracy, precision = test(A0, predict_test(A0,thresh,n=4,fallback=True))\n",
    "    print(thresh, \": \", \"accuracy = \", accuracy, \"precision = \", precision, \"total = \", total_right)"
   ]
  },
  {
   "cell_type": "code",
   "execution_count": 83,
   "metadata": {
    "collapsed": false
   },
   "outputs": [
    {
     "name": "stdout",
     "output_type": "stream",
     "text": [
      "0.01 :  accuracy =  0.0 precision =  0.0 total =  0\n",
      "0.001 :  accuracy =  0.0 precision =  0.0 total =  0\n",
      "0.0001 :  accuracy =  0.0034998833372220928 precision =  0.0035031528375537983 total =  210\n",
      "1e-05 :  accuracy =  0.017149428352388255 precision =  0.017165448904013614 total =  1029\n",
      "1e-06 :  accuracy =  0.040015332822239257 precision =  0.040052714109365097 total =  2401\n",
      "1e-07 :  accuracy =  0.06683110562981234 precision =  0.06689353751709873 total =  4010\n",
      "1e-08 :  accuracy =  0.06683110562981234 precision =  0.06689353751709873 total =  4010\n"
     ]
    }
   ],
   "source": [
    "for thresh in [1.0e-2,1.0e-3,1.0e-4,1.0e-5,1.0e-6,1.0e-7, 1.0e-8]:\n",
    "    total_right, accuracy, precision = test(A0, predict_test(A0,thresh,n=5,fallback=True))\n",
    "    print(thresh, \": \", \"accuracy = \", accuracy, \"precision = \", precision, \"total = \", total_right)"
   ]
  },
  {
   "cell_type": "markdown",
   "metadata": {},
   "source": [
    "# non-decreasing"
   ]
  },
  {
   "cell_type": "code",
   "execution_count": null,
   "metadata": {
    "collapsed": false
   },
   "outputs": [
    {
     "name": "stdout",
     "output_type": "stream",
     "text": [
      "0.1 :  accuracy =  0.003278914376248536 precision =  0.003281446042272746 total =  238\n",
      "0.01 :  accuracy =  0.003278914376248536 precision =  0.003281446042272746 total =  238\n",
      "0.001 :  accuracy =  0.00362333815526624 precision =  0.0036261357525955136 total =  263\n",
      "0.0001 :  accuracy =  0.033409106564717225 precision =  0.03343490190130844 total =  2425\n",
      "1e-05 :  accuracy =  0.04681408004408624 precision =  0.04685022542707055 total =  3398\n",
      "1e-06 :  accuracy =  0.05627884549149273 precision =  0.0563222986667402 total =  4085\n",
      "1e-07 :  accuracy =  0.06860921678032651 precision =  0.06866219029629528 total =  4980\n",
      "1e-08 :  accuracy =  0.06860921678032651 precision =  0.06866219029629528 total =  4980\n"
     ]
    }
   ],
   "source": [
    "for thresh in [1.0e-1, 1.0e-2,1.0e-3,1.0e-4,1.0e-5,1.0e-6,1.0e-7, 1.0e-8]:\n",
    "    total_right, accuracy, precision = test(A1, predict_test(A1,thresh,n=1,fallback=True))\n",
    "    print(thresh, \": \", \"accuracy = \", accuracy, \"precision = \", precision, \"total = \", total_right)"
   ]
  },
  {
   "cell_type": "code",
   "execution_count": 14,
   "metadata": {
    "collapsed": false
   },
   "outputs": [
    {
     "name": "stdout",
     "output_type": "stream",
     "text": [
      "0.1 :  accuracy =  0.003278914376248536 precision =  0.003281446042272746 total =  238\n",
      "0.01 :  accuracy =  0.003278914376248536 precision =  0.003281446042272746 total =  238\n",
      "0.001 :  accuracy =  0.0041055314458910246 precision =  0.0041087013470473875 total =  298\n",
      "0.0001 :  accuracy =  0.023627471240614453 precision =  0.023645714128141846 total =  1715\n",
      "1e-05 :  accuracy =  0.04491286078390852 precision =  0.04494753822608887 total =  3260\n",
      "1e-06 :  accuracy =  0.06555073362264931 precision =  0.0656013456686291 total =  4758\n",
      "1e-07 :  accuracy =  0.08438382585933733 precision =  0.08444897902907803 total =  6125\n",
      "1e-08 :  accuracy =  0.08438382585933733 precision =  0.08444897902907803 total =  6125\n"
     ]
    }
   ],
   "source": [
    "for thresh in [1.0e-1, 1.0e-2,1.0e-3,1.0e-4,1.0e-5,1.0e-6,1.0e-7, 1.0e-8]:\n",
    "    total_right, accuracy, precision = test(A1, predict_test(A1,thresh,n=2,fallback=True))\n",
    "    print(thresh, \": \", \"accuracy = \", accuracy, \"precision = \", precision, \"total = \", total_right)"
   ]
  },
  {
   "cell_type": "code",
   "execution_count": 15,
   "metadata": {
    "collapsed": false
   },
   "outputs": [
    {
     "name": "stdout",
     "output_type": "stream",
     "text": [
      "0.01 :  accuracy =  0.003278914376248536 precision =  0.003281446042272746 total =  238\n",
      "0.001 :  accuracy =  0.0038024385203554454 precision =  0.0038053744019633526 total =  276\n",
      "0.0001 :  accuracy =  0.01410759798856513 precision =  0.014118490534820555 total =  1024\n",
      "1e-05 :  accuracy =  0.03648136667355514 precision =  0.036509534117387527 total =  2648\n",
      "1e-06 :  accuracy =  0.06243714266032927 precision =  0.06248535068731128 total =  4532\n",
      "1e-07 :  accuracy =  0.08465936488255149 precision =  0.08472473079733624 total =  6145\n",
      "1e-08 :  accuracy =  0.08465936488255149 precision =  0.08472473079733624 total =  6145\n"
     ]
    }
   ],
   "source": [
    "for thresh in [1.0e-2,1.0e-3,1.0e-4,1.0e-5,1.0e-6,1.0e-7, 1.0e-8]:\n",
    "    total_right, accuracy, precision = test(A1, predict_test(A1,thresh,n=3,fallback=True))\n",
    "    print(thresh, \": \", \"accuracy = \", accuracy, \"precision = \", precision, \"total = \", total_right)"
   ]
  },
  {
   "cell_type": "code",
   "execution_count": 16,
   "metadata": {
    "collapsed": false
   },
   "outputs": [
    {
     "name": "stdout",
     "output_type": "stream",
     "text": [
      "0.01 :  accuracy =  0.003278914376248536 precision =  0.003281446042272746 total =  238\n",
      "0.001 :  accuracy =  0.003568230350623407 precision =  0.0035709853989438706 total =  259\n",
      "0.0001 :  accuracy =  0.010277605565888269 precision =  0.01028554095603138 total =  746\n",
      "1e-05 :  accuracy =  0.02792588000275539 precision =  0.027947441712969985 total =  2027\n",
      "1e-06 :  accuracy =  0.05288971550595853 precision =  0.05293055191716417 total =  3839\n",
      "1e-07 :  accuracy =  0.07686161052559069 precision =  0.07692095575562878 total =  5579\n",
      "1e-08 :  accuracy =  0.07686161052559069 precision =  0.07692095575562878 total =  5579\n"
     ]
    }
   ],
   "source": [
    "for thresh in [1.0e-2,1.0e-3,1.0e-4,1.0e-5,1.0e-6,1.0e-7, 1.0e-8]:\n",
    "    total_right, accuracy, precision = test(A1, predict_test(A1,thresh,n=4,fallback=True))\n",
    "    print(thresh, \": \", \"accuracy = \", accuracy, \"precision = \", precision, \"total = \", total_right)"
   ]
  },
  {
   "cell_type": "code",
   "execution_count": 17,
   "metadata": {
    "collapsed": false
   },
   "outputs": [
    {
     "name": "stdout",
     "output_type": "stream",
     "text": [
      "0.01 :  accuracy =  0.003278914376248536 precision =  0.003281446042272746 total =  238\n",
      "0.001 :  accuracy =  0.0035406764483019906 precision =  0.0035434102221180495 total =  257\n",
      "0.0001 :  accuracy =  0.0076599848453537235 precision =  0.007665899157578348 total =  556\n",
      "1e-05 :  accuracy =  0.021822690638561685 precision =  0.021839540046050546 total =  1584\n",
      "1e-06 :  accuracy =  0.045587931390783216 precision =  0.0456231300583215 total =  3309\n",
      "1e-07 :  accuracy =  0.07041399738237927 precision =  0.07046836437838658 total =  5111\n",
      "1e-08 :  accuracy =  0.07041399738237927 precision =  0.07046836437838658 total =  5111\n"
     ]
    }
   ],
   "source": [
    "for thresh in [1.0e-2,1.0e-3,1.0e-4,1.0e-5,1.0e-6,1.0e-7, 1.0e-8]:\n",
    "    total_right, accuracy, precision = test(A1, predict_test(A1,thresh,n=5,fallback=True))\n",
    "    print(thresh, \": \", \"accuracy = \", accuracy, \"precision = \", precision, \"total = \", total_right)"
   ]
  },
  {
   "cell_type": "markdown",
   "metadata": {},
   "source": [
    "# decreasing"
   ]
  },
  {
   "cell_type": "code",
   "execution_count": 18,
   "metadata": {
    "collapsed": false
   },
   "outputs": [
    {
     "name": "stdout",
     "output_type": "stream",
     "text": [
      "0.1 :  accuracy =  0.0 precision =  0.0 total =  0\n",
      "0.01 :  accuracy =  0.0 precision =  0.0 total =  0\n",
      "0.001 :  accuracy =  0.07352941176470588 precision =  0.09259259259259259 total =  20\n",
      "0.0001 :  accuracy =  0.11029411764705882 precision =  0.1388888888888889 total =  30\n",
      "1e-05 :  accuracy =  0.11029411764705882 precision =  0.1388888888888889 total =  30\n",
      "1e-06 :  accuracy =  0.11029411764705882 precision =  0.1388888888888889 total =  30\n",
      "1e-07 :  accuracy =  0.11029411764705882 precision =  0.1388888888888889 total =  30\n",
      "1e-08 :  accuracy =  0.11029411764705882 precision =  0.1388888888888889 total =  30\n"
     ]
    }
   ],
   "source": [
    "for thresh in [1.0e-1, 1.0e-2,1.0e-3,1.0e-4,1.0e-5,1.0e-6,1.0e-7, 1.0e-8]:\n",
    "    total_right, accuracy, precision = test(A2, predict_test(A2,thresh,n=1,fallback=True))\n",
    "    print(thresh, \": \", \"accuracy = \", accuracy, \"precision = \", precision, \"total = \", total_right)"
   ]
  },
  {
   "cell_type": "code",
   "execution_count": 19,
   "metadata": {
    "collapsed": false
   },
   "outputs": [
    {
     "name": "stdout",
     "output_type": "stream",
     "text": [
      "0.1 :  accuracy =  0.0 precision =  0.0 total =  0\n",
      "0.01 :  accuracy =  0.0 precision =  0.0 total =  0\n",
      "0.001 :  accuracy =  0.06985294117647059 precision =  0.08796296296296297 total =  19\n",
      "0.0001 :  accuracy =  0.08455882352941177 precision =  0.10648148148148148 total =  23\n",
      "1e-05 :  accuracy =  0.08455882352941177 precision =  0.10648148148148148 total =  23\n",
      "1e-06 :  accuracy =  0.08455882352941177 precision =  0.10648148148148148 total =  23\n",
      "1e-07 :  accuracy =  0.08455882352941177 precision =  0.10648148148148148 total =  23\n",
      "1e-08 :  accuracy =  0.08455882352941177 precision =  0.10648148148148148 total =  23\n"
     ]
    }
   ],
   "source": [
    "for thresh in [1.0e-1, 1.0e-2,1.0e-3,1.0e-4,1.0e-5,1.0e-6,1.0e-7, 1.0e-8]:\n",
    "    total_right, accuracy, precision = test(A2, predict_test(A2,thresh,n=2,fallback=True))\n",
    "    print(thresh, \": \", \"accuracy = \", accuracy, \"precision = \", precision, \"total = \", total_right)"
   ]
  },
  {
   "cell_type": "code",
   "execution_count": 20,
   "metadata": {
    "collapsed": false
   },
   "outputs": [
    {
     "name": "stdout",
     "output_type": "stream",
     "text": [
      "0.01 :  accuracy =  0.0 precision =  0.0 total =  0\n",
      "0.001 :  accuracy =  0.07352941176470588 precision =  0.09259259259259259 total =  20\n",
      "0.0001 :  accuracy =  0.08088235294117647 precision =  0.10185185185185185 total =  22\n",
      "1e-05 :  accuracy =  0.08088235294117647 precision =  0.10185185185185185 total =  22\n",
      "1e-06 :  accuracy =  0.08088235294117647 precision =  0.10185185185185185 total =  22\n",
      "1e-07 :  accuracy =  0.08088235294117647 precision =  0.10185185185185185 total =  22\n",
      "1e-08 :  accuracy =  0.08088235294117647 precision =  0.10185185185185185 total =  22\n"
     ]
    }
   ],
   "source": [
    "for thresh in [1.0e-2,1.0e-3,1.0e-4,1.0e-5,1.0e-6,1.0e-7, 1.0e-8]:\n",
    "    total_right, accuracy, precision = test(A2, predict_test(A2,thresh,n=3,fallback=True))\n",
    "    print(thresh, \": \", \"accuracy = \", accuracy, \"precision = \", precision, \"total = \", total_right)"
   ]
  },
  {
   "cell_type": "code",
   "execution_count": 21,
   "metadata": {
    "collapsed": false
   },
   "outputs": [
    {
     "name": "stdout",
     "output_type": "stream",
     "text": [
      "0.01 :  accuracy =  0.0 precision =  0.0 total =  0\n",
      "0.001 :  accuracy =  0.07352941176470588 precision =  0.09259259259259259 total =  20\n",
      "0.0001 :  accuracy =  0.08088235294117647 precision =  0.10185185185185185 total =  22\n",
      "1e-05 :  accuracy =  0.08088235294117647 precision =  0.10185185185185185 total =  22\n",
      "1e-06 :  accuracy =  0.08088235294117647 precision =  0.10185185185185185 total =  22\n",
      "1e-07 :  accuracy =  0.08088235294117647 precision =  0.10185185185185185 total =  22\n",
      "1e-08 :  accuracy =  0.08088235294117647 precision =  0.10185185185185185 total =  22\n"
     ]
    }
   ],
   "source": [
    "for thresh in [1.0e-2,1.0e-3,1.0e-4,1.0e-5,1.0e-6,1.0e-7, 1.0e-8]:\n",
    "    total_right, accuracy, precision = test(A2, predict_test(A2,thresh,n=4,fallback=True))\n",
    "    print(thresh, \": \", \"accuracy = \", accuracy, \"precision = \", precision, \"total = \", total_right)"
   ]
  },
  {
   "cell_type": "code",
   "execution_count": 22,
   "metadata": {
    "collapsed": false
   },
   "outputs": [
    {
     "name": "stdout",
     "output_type": "stream",
     "text": [
      "0.01 :  accuracy =  0.0 precision =  0.0 total =  0\n",
      "0.001 :  accuracy =  0.07352941176470588 precision =  0.09259259259259259 total =  20\n",
      "0.0001 :  accuracy =  0.08088235294117647 precision =  0.10185185185185185 total =  22\n",
      "1e-05 :  accuracy =  0.08088235294117647 precision =  0.10185185185185185 total =  22\n",
      "1e-06 :  accuracy =  0.08088235294117647 precision =  0.10185185185185185 total =  22\n",
      "1e-07 :  accuracy =  0.08088235294117647 precision =  0.10185185185185185 total =  22\n",
      "1e-08 :  accuracy =  0.08088235294117647 precision =  0.10185185185185185 total =  22\n"
     ]
    }
   ],
   "source": [
    "for thresh in [1.0e-2,1.0e-3,1.0e-4,1.0e-5,1.0e-6,1.0e-7, 1.0e-8]:\n",
    "    total_right, accuracy, precision = test(A2, predict_test(A2,thresh,n=5,fallback=True))\n",
    "    print(thresh, \": \", \"accuracy = \", accuracy, \"precision = \", precision, \"total = \", total_right)"
   ]
  },
  {
   "cell_type": "markdown",
   "metadata": {},
   "source": [
    "# non-increasing"
   ]
  },
  {
   "cell_type": "code",
   "execution_count": 23,
   "metadata": {
    "collapsed": false
   },
   "outputs": [
    {
     "name": "stdout",
     "output_type": "stream",
     "text": [
      "0.1 :  accuracy =  0.23931623931623933 precision =  0.27184466019417475 total =  112\n",
      "0.01 :  accuracy =  0.3034188034188034 precision =  0.3446601941747573 total =  142\n",
      "0.001 :  accuracy =  0.31837606837606836 precision =  0.3616504854368932 total =  149\n",
      "0.0001 :  accuracy =  0.36324786324786323 precision =  0.41262135922330095 total =  170\n",
      "1e-05 :  accuracy =  0.3803418803418803 precision =  0.4320388349514563 total =  178\n",
      "1e-06 :  accuracy =  0.3803418803418803 precision =  0.4320388349514563 total =  178\n",
      "1e-07 :  accuracy =  0.3803418803418803 precision =  0.4320388349514563 total =  178\n",
      "1e-08 :  accuracy =  0.3803418803418803 precision =  0.4320388349514563 total =  178\n"
     ]
    }
   ],
   "source": [
    "for thresh in [1.0e-1, 1.0e-2,1.0e-3,1.0e-4,1.0e-5,1.0e-6,1.0e-7, 1.0e-8]:\n",
    "    total_right, accuracy, precision = test(A3, predict_test(A3,thresh,n=1,fallback=True))\n",
    "    print(thresh, \": \", \"accuracy = \", accuracy, \"precision = \", precision, \"total = \", total_right)"
   ]
  },
  {
   "cell_type": "code",
   "execution_count": 24,
   "metadata": {
    "collapsed": false
   },
   "outputs": [
    {
     "name": "stdout",
     "output_type": "stream",
     "text": [
      "0.1 :  accuracy =  0.23504273504273504 precision =  0.2669902912621359 total =  110\n",
      "0.01 :  accuracy =  0.297008547008547 precision =  0.33737864077669905 total =  139\n",
      "0.001 :  accuracy =  0.3141025641025641 precision =  0.3567961165048544 total =  147\n",
      "0.0001 :  accuracy =  0.358974358974359 precision =  0.4077669902912621 total =  168\n",
      "1e-05 :  accuracy =  0.36752136752136755 precision =  0.4174757281553398 total =  172\n",
      "1e-06 :  accuracy =  0.36752136752136755 precision =  0.4174757281553398 total =  172\n",
      "1e-07 :  accuracy =  0.36752136752136755 precision =  0.4174757281553398 total =  172\n",
      "1e-08 :  accuracy =  0.36752136752136755 precision =  0.4174757281553398 total =  172\n"
     ]
    }
   ],
   "source": [
    "for thresh in [1.0e-1, 1.0e-2,1.0e-3,1.0e-4,1.0e-5,1.0e-6,1.0e-7, 1.0e-8]:\n",
    "    total_right, accuracy, precision = test(A3, predict_test(A3,thresh,n=2,fallback=True))\n",
    "    print(thresh, \": \", \"accuracy = \", accuracy, \"precision = \", precision, \"total = \", total_right)"
   ]
  },
  {
   "cell_type": "code",
   "execution_count": 25,
   "metadata": {
    "collapsed": false
   },
   "outputs": [
    {
     "name": "stdout",
     "output_type": "stream",
     "text": [
      "0.01 :  accuracy =  0.297008547008547 precision =  0.33737864077669905 total =  139\n",
      "0.001 :  accuracy =  0.31196581196581197 precision =  0.35436893203883496 total =  146\n",
      "0.0001 :  accuracy =  0.3504273504273504 precision =  0.39805825242718446 total =  164\n",
      "1e-05 :  accuracy =  0.3525641025641026 precision =  0.40048543689320387 total =  165\n",
      "1e-06 :  accuracy =  0.3525641025641026 precision =  0.40048543689320387 total =  165\n",
      "1e-07 :  accuracy =  0.3525641025641026 precision =  0.40048543689320387 total =  165\n",
      "1e-08 :  accuracy =  0.3525641025641026 precision =  0.40048543689320387 total =  165\n"
     ]
    }
   ],
   "source": [
    "for thresh in [1.0e-2,1.0e-3,1.0e-4,1.0e-5,1.0e-6,1.0e-7, 1.0e-8]:\n",
    "    total_right, accuracy, precision = test(A3, predict_test(A3,thresh,n=3,fallback=True))\n",
    "    print(thresh, \": \", \"accuracy = \", accuracy, \"precision = \", precision, \"total = \", total_right)"
   ]
  },
  {
   "cell_type": "code",
   "execution_count": 26,
   "metadata": {
    "collapsed": false
   },
   "outputs": [
    {
     "name": "stdout",
     "output_type": "stream",
     "text": [
      "0.01 :  accuracy =  0.29273504273504275 precision =  0.3325242718446602 total =  137\n",
      "0.001 :  accuracy =  0.31196581196581197 precision =  0.35436893203883496 total =  146\n",
      "0.0001 :  accuracy =  0.3504273504273504 precision =  0.39805825242718446 total =  164\n",
      "1e-05 :  accuracy =  0.3525641025641026 precision =  0.40048543689320387 total =  165\n",
      "1e-06 :  accuracy =  0.3525641025641026 precision =  0.40048543689320387 total =  165\n",
      "1e-07 :  accuracy =  0.3525641025641026 precision =  0.40048543689320387 total =  165\n",
      "1e-08 :  accuracy =  0.3525641025641026 precision =  0.40048543689320387 total =  165\n"
     ]
    }
   ],
   "source": [
    "for thresh in [1.0e-2,1.0e-3,1.0e-4,1.0e-5,1.0e-6,1.0e-7, 1.0e-8]:\n",
    "    total_right, accuracy, precision = test(A3, predict_test(A3,thresh,n=4,fallback=True))\n",
    "    print(thresh, \": \", \"accuracy = \", accuracy, \"precision = \", precision, \"total = \", total_right)"
   ]
  },
  {
   "cell_type": "code",
   "execution_count": 27,
   "metadata": {
    "collapsed": false
   },
   "outputs": [
    {
     "name": "stdout",
     "output_type": "stream",
     "text": [
      "0.01 :  accuracy =  0.2905982905982906 precision =  0.3300970873786408 total =  136\n",
      "0.001 :  accuracy =  0.3141025641025641 precision =  0.3567961165048544 total =  147\n",
      "0.0001 :  accuracy =  0.3504273504273504 precision =  0.39805825242718446 total =  164\n",
      "1e-05 :  accuracy =  0.3525641025641026 precision =  0.40048543689320387 total =  165\n",
      "1e-06 :  accuracy =  0.3525641025641026 precision =  0.40048543689320387 total =  165\n",
      "1e-07 :  accuracy =  0.3525641025641026 precision =  0.40048543689320387 total =  165\n",
      "1e-08 :  accuracy =  0.3525641025641026 precision =  0.40048543689320387 total =  165\n"
     ]
    }
   ],
   "source": [
    "for thresh in [1.0e-2,1.0e-3,1.0e-4,1.0e-5,1.0e-6,1.0e-7, 1.0e-8]:\n",
    "    total_right, accuracy, precision = test(A3, predict_test(A3,thresh,n=5,fallback=True))\n",
    "    print(thresh, \": \", \"accuracy = \", accuracy, \"precision = \", precision, \"total = \", total_right)"
   ]
  },
  {
   "cell_type": "code",
   "execution_count": null,
   "metadata": {
    "collapsed": true
   },
   "outputs": [],
   "source": []
  },
  {
   "cell_type": "code",
   "execution_count": null,
   "metadata": {
    "collapsed": true
   },
   "outputs": [],
   "source": []
  }
 ],
 "metadata": {
  "anaconda-cloud": {},
  "kernelspec": {
   "display_name": "Python [Root]",
   "language": "python",
   "name": "Python [Root]"
  },
  "language_info": {
   "codemirror_mode": {
    "name": "ipython",
    "version": 3
   },
   "file_extension": ".py",
   "mimetype": "text/x-python",
   "name": "python",
   "nbconvert_exporter": "python",
   "pygments_lexer": "ipython3",
   "version": "3.5.2"
  }
 },
 "nbformat": 4,
 "nbformat_minor": 0
}
